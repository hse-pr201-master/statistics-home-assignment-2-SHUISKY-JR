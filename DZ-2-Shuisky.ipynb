{
 "cells": [
  {
   "cell_type": "markdown",
   "id": "a51394a1",
   "metadata": {},
   "source": [
    "# ДЗ-2"
   ]
  },
  {
   "cell_type": "markdown",
   "id": "056b4665",
   "metadata": {},
   "source": [
    "# Шуйский Денис, БЭК 213"
   ]
  },
  {
   "cell_type": "code",
   "execution_count": 4,
   "id": "d219de61",
   "metadata": {},
   "outputs": [],
   "source": [
    "import numpy as np\n",
    "import pandas as pd"
   ]
  },
  {
   "cell_type": "markdown",
   "id": "ddeb54f9",
   "metadata": {},
   "source": [
    "# Задача №1"
   ]
  },
  {
   "cell_type": "markdown",
   "id": "15e13cd5",
   "metadata": {},
   "source": [
    "## a) постройте график функции правдоподобия как функции от общего кол-ва такси n. Найдите оценку числа n методом максимального правдоподобия"
   ]
  },
  {
   "cell_type": "markdown",
   "id": "4144312e",
   "metadata": {},
   "source": [
    "Вероятность того, что девять раз такси не повторялись,\n",
    "равна: $\\frac{n}{n} \\cdot \\frac{n-1}{n} \\cdot \\frac{n-2}{n} \\cdot \\frac{n-3}{n}  \\cdot \\frac{n-4}{n}  \\cdot \\frac{n-5}{n}  \\cdot \\frac{n-36}{n}  \\cdot \\frac{n-7}{n}  \\cdot \\frac{n-8}{n} = \\frac{(n-1)!}{(n-9)! n^8}$"
   ]
  },
  {
   "cell_type": "markdown",
   "id": "7b3891e8",
   "metadata": {},
   "source": [
    "Вероятность того, что на 10-ый раз приехал таксист, который уже приезжал равна: $\\frac{(n-1)!}{(n-9)! n^8} \\cdot \\frac{9}{n} = \\frac{9(n-1)!}{(n-9)! n^9} = F(n)$ - функция правдоподобия "
   ]
  },
  {
   "cell_type": "code",
   "execution_count": 5,
   "id": "c62e3a9a",
   "metadata": {},
   "outputs": [],
   "source": [
    "import matplotlib.pyplot as plt\n",
    "import numpy as np\n",
    "\n",
    "def likelihood(k, n):\n",
    "    prod = 1 # вероятность, что k - 1 без повторения такси\n",
    "    for i in range(k -1):\n",
    "        prod *= ((n - i)/n)\n",
    "    return prod*(k-1)/n # вероятность, что на k будет повтор\n",
    "\n",
    "def estimation_likelihood(likelihood_arr):\n",
    "    return np.argmax(likelihood_arr)"
   ]
  },
  {
   "cell_type": "code",
   "execution_count": 6,
   "id": "386e4acd",
   "metadata": {},
   "outputs": [
    {
     "name": "stdout",
     "output_type": "stream",
     "text": [
      "Оценка методом максимального правдоподобия n =  42\n"
     ]
    }
   ],
   "source": [
    "k = 10 # повтор такси произошел на 10 заказ\n",
    "num_taxi_max = 100 # максимальное значение водителей\n",
    "num_taxi = np.arange(1, num_taxi_max + 1)\n",
    "\n",
    "likelihood_arr = [likelihood(k, i) for i in num_taxi]\n",
    "est_likelihood = num_taxi[estimation_likelihood(likelihood_arr)]\n",
    "\n",
    "print('Оценка методом максимального правдоподобия n = ', est_likelihood)"
   ]
  },
  {
   "cell_type": "code",
   "execution_count": 7,
   "id": "a7c7ebef",
   "metadata": {},
   "outputs": [
    {
     "data": {
      "image/png": "[encoded data removed]",
      "text/plain": [
       "<Figure size 576x360 with 1 Axes>"
      ]
     },
     "metadata": {
      "needs_background": "light"
     },
     "output_type": "display_data"
    }
   ],
   "source": [
    "fig, ax = plt.subplots(figsize = (8, 5))\n",
    "ax.plot(num_taxi, likelihood_arr, color='blue', label='likelihood')\n",
    "ax.set_xlabel('n', fontsize=14)\n",
    "ax.set_ylabel('value', fontsize=14)\n",
    "plt.legend(fontsize=16)\n",
    "plt.grid(True)\n",
    "plt.show()"
   ]
  },
  {
   "cell_type": "markdown",
   "id": "9c4ee9ff",
   "metadata": {},
   "source": [
    "Найдем оценку числа n методом максимального правдоподобия **аналитически**:"
   ]
  },
  {
   "cell_type": "markdown",
   "id": "f5ab1669",
   "metadata": {},
   "source": [
    "- $\\frac{9n!}{(n-9)!n^{10}} = \\frac{9(n-1)!}{((n-1)-9)!(n-1)^{10}} \\cdot \\frac{n}{n-9} \\cdot (\\frac{n-1}{n})^{10} = F_{n-1}\\cdot(1-\\frac{1}{n})^{10}:(1-\\frac{9}{n})$\n",
    "\n",
    "- то есть нужно найти когда коэффициент$(1-\\frac{1}{n})^{10}:(1-\\frac{9}{n}) >= 1$ \n",
    "\n",
    "- замена: $ \\frac{1}{n} = x$\n",
    "- $(1-x)^{10} >= 1-9x$ \n",
    "- $x^{10} - 10 x^9 + 45 x^8 - 120 x^7 + 210 x^6 - 252 x^5 + 210 x^4 - 120 x^3 + 45 x^2 - 10 x + 1 >= 1-9x$\n",
    "- $x^{9} - 10 x^8 + 45 x^7 - 120 x^6 + 210 x^5 - 252 x^4 + 210 x^3 - 120 x^2 + 45 x - 1  >= 0$ (поделили на x)\n",
    "\n",
    "Оставим члены со степенью <= 1, так как остальные малы по сравнению с ними:\n",
    "\n",
    "- $- 120 x^2 + 45 x - 1  >= 0$ \n",
    "- $ 120 x^2 - 45 x +1  <= 0$ \n",
    "- $\\frac{1}{240}(45-\\sqrt{1545})<= x <= \\frac{1}{240}(45+\\sqrt{1545})$\n",
    "- $0.023722966608053783 <=𝑥<= 0.35127703339194627$ \n",
    "- $2.8467559929664534 <=n<= 42.15324400703354$ \n",
    "\n",
    "Пока n  <= 42.15324400703354, множитель возрастает, а дальше начинает убывать.\n",
    "\n",
    "**Cледовательно  n = 42, численная и аналитическая оценки совпадают!**"
   ]
  },
  {
   "cell_type": "markdown",
   "id": "26e41c5d",
   "metadata": {},
   "source": [
    "## б) постройте график математического ожидания номера заказа, на котором происходит первый повторный приезд, как функции от общего количества такси n. Найдите оценку числа n методом моментов"
   ]
  },
  {
   "cell_type": "code",
   "execution_count": 8,
   "id": "f3f1b737",
   "metadata": {},
   "outputs": [],
   "source": [
    "def expected_value(n):\n",
    "    expect_value = 0\n",
    "    for k in range(2, n + 2):\n",
    "        prod = 1\n",
    "        for j in range(k - 1):\n",
    "            prod *= (n - j)/n\n",
    "        expect_value += k*(k - 1) * prod/n\n",
    "    return expect_value\n",
    "\n",
    "# оценка методом момента\n",
    "def estimation_mm(expectations_per_n, k_gt):\n",
    "    return np.argmin(np.abs(np.asarray(expectations_per_n) - k_gt))"
   ]
  },
  {
   "cell_type": "code",
   "execution_count": 9,
   "id": "a97f7bd7",
   "metadata": {},
   "outputs": [
    {
     "name": "stdout",
     "output_type": "stream",
     "text": [
      "Оценка методом моментов n =  55\n"
     ]
    }
   ],
   "source": [
    "max_num_taxi = 100 # максимальное кол-во такси в городе\n",
    "num_taxi = np.arange(1, max_num_taxi + 1)\n",
    "\n",
    "expectations_per_n = []\n",
    "for n in num_taxi:\n",
    "    expectations_per_n.append(expected_value(n))\n",
    "\n",
    "k_gt = 10 # на каком шаге произошел повтор\n",
    "estimate_moments = num_taxi[estimation_mm(expectations_per_n, k_gt)]\n",
    "\n",
    "print('Оценка методом моментов n = ', estimate_moments)"
   ]
  },
  {
   "cell_type": "code",
   "execution_count": 10,
   "id": "a2db09a5",
   "metadata": {},
   "outputs": [
    {
     "data": {
      "image/png": "[encoded data removed]",
      "text/plain": [
       "<Figure size 576x360 with 1 Axes>"
      ]
     },
     "metadata": {
      "needs_background": "light"
     },
     "output_type": "display_data"
    }
   ],
   "source": [
    "fig, ax = plt.subplots(figsize = (8, 5))\n",
    "ax.plot(num_taxi, expectations_per_n, color='blue', label='expected value')\n",
    "ax.set_xlabel('n', fontsize=14)\n",
    "ax.set_ylabel('value', fontsize=14)\n",
    "plt.legend(fontsize=16)\n",
    "plt.grid(True)\n",
    "plt.show()"
   ]
  },
  {
   "cell_type": "markdown",
   "id": "daf4c745",
   "metadata": {},
   "source": [
    "## в) Предположим, что настоящее n равно 100. Проведя 1000 симуляций вызовов такси до первого повторного, рассчитайте 10000 оценок методом маоментов и 10000 оценок методом максимального правдоподобия. Постройте гистограммы для оценок двух методов. Оцените смещение, дисперсию и среднеквадратичную ошибку двух методов."
   ]
  },
  {
   "cell_type": "code",
   "execution_count": 11,
   "id": "c5429849",
   "metadata": {},
   "outputs": [
    {
     "name": "stdout",
     "output_type": "stream",
     "text": [
      "Метод моментов\n",
      "Смещение:  10.505200000000002\n",
      "Дисперсия:  6680.52357296\n",
      "СКО:  81.73855694914862\n",
      "Метод макс. правдоподобия\n",
      "Смещение:  -9.7984\n",
      "Дисперсия:  5498.77355744\n",
      "СКО:  74.15742369978194\n"
     ]
    },
    {
     "data": {
      "image/png": "[encoded data removed]",
      "text/plain": [
       "<Figure size 576x360 with 2 Axes>"
      ]
     },
     "metadata": {
      "needs_background": "light"
     },
     "output_type": "display_data"
    }
   ],
   "source": [
    "num_simulations = 10**4 # кол-во симутяций\n",
    "n_gt = 100 # истинное кол-во водителей\n",
    "np.random.seed(1) # фиксируем сид, для воспроизводимости результатов\n",
    "\n",
    "k_s = np.empty((num_simulations), dtype = np.int32)\n",
    "estimations_mm = np.empty((num_simulations), dtype = np.int32)\n",
    "estimations_likehood = np.empty((num_simulations), dtype = np.int32)\n",
    "\n",
    "for i in range(num_simulations):\n",
    "    taxi_sequence = np.random.randint(1, n_gt + 1, size=n_gt + 2) # генерируем последовательность такси \n",
    "    \n",
    "    # находим первый повтор\n",
    "    for j in range(1, n_gt + 2):\n",
    "        value, count = np.unique(taxi_sequence[:j], return_counts = True)\n",
    "        if np.sum(count == 2) > 0:\n",
    "            k_ = len(value) + 1 # номер первого повтора\n",
    "            break\n",
    "    k_s[i] = k_\n",
    "\n",
    "# предвычисляем мат. ожидание\n",
    "expectations_per_n = []\n",
    "num_taxi = np.arange(1, 250 + 1)\n",
    "for n in num_taxi:\n",
    "    expectations_per_n.append(expected_value(n))\n",
    "\n",
    "# два цикла и доп. массив не очень, но для отработки удобнее\n",
    "for i in range(num_simulations):\n",
    "    estimations_mm[i] = num_taxi[estimation_mm(expectations_per_n, k_s[i])]\n",
    "    likelihood_arr = [likelihood(k_s[i], j) for j in num_taxi]\n",
    "    estimations_likehood[i] = num_taxi[estimation_likelihood(likelihood_arr)]\n",
    "\n",
    "\n",
    "fig, (ax1, ax2) = plt.subplots(1,2, figsize = (8, 5))\n",
    "\n",
    "ax1.hist(estimations_mm, bins = int(np.ceil(np.log2(num_simulations) + 1)), color = 'blue')\n",
    "ax1.axvline(x = n_gt, color = 'red', linestyle = '--')\n",
    "ax1.set_xlim((1, 250))\n",
    "ax1.set_xlabel('estimate value')\n",
    "ax1.set_ylabel('num sample')\n",
    "ax1.set_title('Method of moments')\n",
    "\n",
    "ax2.hist(estimations_likehood, bins = int(np.ceil(np.log2(num_simulations) + 1)), color = 'green')\n",
    "ax2.axvline(x = n_gt, color = 'red', linestyle = '--')\n",
    "ax2.set_xlim((1, 250))\n",
    "ax2.set_xlabel('estimate value')\n",
    "ax2.set_ylabel('num sample')\n",
    "ax2.set_title('Maximum likelihood estimation')\n",
    "\n",
    "print('Метод моментов')\n",
    "print('Смещение: ', np.mean(estimations_mm) - n_gt)\n",
    "print('Дисперсия: ', np.var(estimations_mm))\n",
    "print('СКО: ', np.std(estimations_mm, ddof=1))\n",
    "\n",
    "print('Метод макс. правдоподобия')\n",
    "print('Смещение: ', np.mean(estimations_likehood) - n_gt)\n",
    "print('Дисперсия: ', np.var(estimations_likehood))\n",
    "print('СКО: ', np.std(estimations_likehood, ddof=1))\n",
    "\n",
    "\n",
    "plt.show()"
   ]
  },
  {
   "cell_type": "markdown",
   "id": "f96ab556",
   "metadata": {},
   "source": [
    "# Задача №3"
   ]
  },
  {
   "cell_type": "markdown",
   "id": "e9a8b9b8",
   "metadata": {},
   "source": [
    "Математическое ожидание экспоненциального распределения ($\\lambda e^{-\\lambda x}, x >=0$) с интенсивностью $\\lambda = 1$ = 1.\n",
    "\n",
    "Математическое ожидание распределения Cтьюдента(3) = 0 "
   ]
  },
  {
   "cell_type": "code",
   "execution_count": 12,
   "id": "1e7ad882",
   "metadata": {},
   "outputs": [],
   "source": [
    "from scipy.stats import expon, norm, t\n",
    "n = 20\n",
    "samples_expon = expon.rvs(scale = 1,  size = (10000,n))\n",
    "samples_student = t.rvs(df = 3,  size = (10000,n))\n",
    "\n",
    "true_m_exp = 1\n",
    "true_m_st = 0"
   ]
  },
  {
   "cell_type": "markdown",
   "id": "572e97b2",
   "metadata": {},
   "source": [
    "**Классический асимптотический нормальный интервал:**"
   ]
  },
  {
   "cell_type": "markdown",
   "id": "ceecdaba",
   "metadata": {},
   "source": [
    "Воспользуемся ЦПТ:\n",
    "\n",
    "$\\sqrt(N) \\cdot \\frac{M - \\bar{X}}{S} -> N(0,1)$,\n",
    "\n",
    "где M - мат. ожидание генеральной совокупности;\n",
    "\n",
    "S = - подправленное выборочное среднеквадратичное отклонение\n",
    "\n",
    "Тогда $M \\in (\\bar{X} \\pm \\frac{x_{\\gamma} \\cdot S}{\\sqrt{N}}), x_{\\gamma} = z_{(\\gamma+1)/2}$ - квантиль нормального распределения уровня $(\\gamma+1)/2$"
   ]
  },
  {
   "cell_type": "code",
   "execution_count": 13,
   "id": "ca779dbf",
   "metadata": {},
   "outputs": [],
   "source": [
    "np.random.seed(1)\n",
    "def assymp_ci(samples, n):\n",
    "    s = np.sqrt(np.var(samples, axis = 1)*n/(n-1))\n",
    "    left_interval_assymp = np.mean(samples, axis=1)-s*norm.ppf(0.975)* 1/(np.sqrt(n))\n",
    "    right_interval_assymp = np.mean(samples, axis=1)+s*norm.ppf(0.975)* 1/(np.sqrt(n))\n",
    "    return left_interval_assymp, right_interval_assymp"
   ]
  },
  {
   "cell_type": "code",
   "execution_count": 14,
   "id": "b9b9241d",
   "metadata": {},
   "outputs": [],
   "source": [
    "# Экспоненциальное распределение\n",
    "left_interval_assymp_exp, right_interval_assymp_exp = assymp_ci(samples_expon, n)\n",
    "\n",
    "# Распределение Стьюдента\n",
    "left_interval_assymp_st, right_interval_assymp_st = assymp_ci(samples_student, n)"
   ]
  },
  {
   "cell_type": "markdown",
   "id": "cb16e007",
   "metadata": {},
   "source": [
    "**Наивный бутстрэп:**"
   ]
  },
  {
   "cell_type": "code",
   "execution_count": 15,
   "id": "f998527c",
   "metadata": {},
   "outputs": [],
   "source": [
    "N_bootstrap = 10000\n",
    "np.random.seed(1)\n",
    "def get_bootstrap_samples(data, n_samples):\n",
    "    indices = np.random.randint(0, len(data), (n_samples, len(data)))\n",
    "    samples = data[indices]\n",
    "    return samples\n",
    "\n",
    "def get_q(arr):\n",
    "    sample_mean = np.mean(arr, axis = 1)\n",
    "    q_l,q_r = np.quantile(sample_mean,[0.025, 0.975]) \n",
    "    return q_l,q_r"
   ]
  },
  {
   "cell_type": "code",
   "execution_count": 16,
   "id": "f7d575e5",
   "metadata": {},
   "outputs": [],
   "source": [
    "np.random.seed(1)\n",
    "def naive_bootstrap(N_bootstrap, samples):\n",
    "    q_arr_bootstrap = np.zeros((N_bootstrap, 2))\n",
    "    for i in range(samples.shape[0]):\n",
    "        bootstrap_samples = get_bootstrap_samples(samples[i],N_bootstrap)\n",
    "        q_l, q_r = get_q(bootstrap_samples)\n",
    "        q_arr_bootstrap[i,0], q_arr_bootstrap[i,1] =  q_l, q_r\n",
    "    return q_arr_bootstrap\n",
    "\n",
    "q_arr_bootstrap_exp = naive_bootstrap(N_bootstrap, samples_expon)\n",
    "q_arr_bootstrap_st = naive_bootstrap(N_bootstrap, samples_student)"
   ]
  },
  {
   "cell_type": "markdown",
   "id": "2bf0a8ce",
   "metadata": {},
   "source": [
    "**Бутстрэп t-статистика:**"
   ]
  },
  {
   "cell_type": "code",
   "execution_count": 17,
   "id": "23828a31",
   "metadata": {},
   "outputs": [],
   "source": [
    "np.random.seed(1)\n",
    "mean_init_sample_expon = np.mean(samples_expon, axis=1)\n",
    "mean_init_sample_st = np.mean(samples_student, axis=1)"
   ]
  },
  {
   "cell_type": "code",
   "execution_count": 18,
   "id": "143534dc",
   "metadata": {},
   "outputs": [],
   "source": [
    "np.random.seed(1)\n",
    "def get_t_stat(arr, n, mmean):\n",
    "    sample_mean = np.mean(arr, axis = 1)\n",
    "    sample_se = np.sqrt(np.sum((arr - sample_mean[..., np.newaxis])**2)/(n-1)/n)\n",
    "    sample_t  = (sample_mean[..., np.newaxis] - mmean)/sample_se\n",
    "    return sample_t, sample_se\n",
    "\n",
    "\n",
    "def t_bootstrap(N_bootstrap,samples,mean_init_sample):\n",
    "    ci = np.zeros((N_bootstrap, 2))\n",
    "    for i in range(samples.shape[0]):\n",
    "        bootstrap_samples = get_bootstrap_samples(samples[i],N_bootstrap)\n",
    "        t, se = get_t_stat(bootstrap_samples, n, mean_init_sample[i])\n",
    "        t_l, t_r = np.quantile(t,[0.025, 0.975]) \n",
    "        ci_l, ci_r = mean_init_sample[i]- t_r*se, mean_init_sample[i]- t_l*se\n",
    "        ci[i,0], ci[i,1] =  ci_l, ci_r\n",
    "    return ci\n",
    "\n",
    "ci_exp = t_bootstrap(N_bootstrap, samples_expon,mean_init_sample_expon)\n",
    "ci_st = t_bootstrap(N_bootstrap, samples_student,mean_init_sample_st)"
   ]
  },
  {
   "cell_type": "code",
   "execution_count": 19,
   "id": "4c1d4142",
   "metadata": {},
   "outputs": [],
   "source": [
    "np.random.seed(1)\n",
    "assymp_expon = np.vstack((left_interval_assymp_exp,right_interval_assymp_exp)).T\n",
    "assymp_st = np.vstack((left_interval_assymp_st,right_interval_assymp_st)).T"
   ]
  },
  {
   "cell_type": "code",
   "execution_count": 20,
   "id": "38855732",
   "metadata": {},
   "outputs": [
    {
     "name": "stdout",
     "output_type": "stream",
     "text": [
      "Классический асимптотический нормальный интервал, экспоненциальное распределение:90.52\n",
      "Наивный бутстрэп, экспоненциальное распределение:90.58\n",
      "Бутстрэп t-статистика, экспоненциальное распределение:88.83\n",
      "\n",
      "\n",
      "Классический асимптотический нормальный интервал, распределение Стьюдента:94.19999999999999 \n",
      "Наивный бутстрэп, распределение Стьюдента:91.97\n",
      "Бутстрэп t-статистика, распределение Стьюдента:94.36 \n",
      "\n",
      "\n"
     ]
    }
   ],
   "source": [
    "np.random.seed(1)\n",
    "cover_percent_expon_assymp = np.where((true_m_exp>=assymp_expon[:,0])&(true_m_exp<=assymp_expon[:,1]))[0].shape[0]/10000*100\n",
    "cover_percent_expon_bootstrap = np.where((true_m_exp>=q_arr_bootstrap_exp[:,0])&(true_m_exp<=q_arr_bootstrap_exp[:,1]))[0].shape[0]/10000*100\n",
    "cover_percent_expon_t_bootstrap = np.where((true_m_exp>=ci_exp[:,0])&(true_m_exp<=ci_exp[:,1]))[0].shape[0]/10000*100\n",
    "\n",
    "\n",
    "cover_percent_st_assymp = np.where((true_m_st>=assymp_st[:,0])&(true_m_st<=assymp_st[:,1]))[0].shape[0]/10000*100\n",
    "cover_percent_st_bootstrap = np.where((true_m_st>=q_arr_bootstrap_st[:,0])&(true_m_st<=q_arr_bootstrap_st[:,1]))[0].shape[0]/10000*100\n",
    "cover_percent_st_t_bootstrap = np.where((true_m_st>=ci_st[:,0])&(true_m_st<=ci_st[:,1]))[0].shape[0]/10000*100\n",
    "\n",
    "\n",
    "print('Классический асимптотический нормальный интервал, экспоненциальное распределение:{0}'.format(cover_percent_expon_assymp))\n",
    "print('Наивный бутстрэп, экспоненциальное распределение:{0}'.format(cover_percent_expon_bootstrap))\n",
    "print('Бутстрэп t-статистика, экспоненциальное распределение:{0}\\n\\n'.format(cover_percent_expon_t_bootstrap))\n",
    "\n",
    "\n",
    "print('Классический асимптотический нормальный интервал, распределение Стьюдента:{0} '.format(cover_percent_st_assymp))\n",
    "print('Наивный бутстрэп, распределение Стьюдента:{0}'.format(cover_percent_st_bootstrap))\n",
    "print('Бутстрэп t-статистика, распределение Стьюдента:{0} \\n\\n'.format(cover_percent_st_t_bootstrap))\n"
   ]
  },
  {
   "cell_type": "markdown",
   "id": "a713c48e",
   "metadata": {},
   "source": [
    "В первом случае лучше себя показал классический асимптотический нормальный интервал, но в случае с распределением Стьюдента уже лучшим оказывается бустрэп t-статистики"
   ]
  },
  {
   "cell_type": "markdown",
   "id": "b355010f",
   "metadata": {},
   "source": [
    "# Задача №4"
   ]
  },
  {
   "cell_type": "markdown",
   "id": "3c44a077",
   "metadata": {},
   "source": [
    "$H_0:$ Оценка(Г) = Оценка(С)\n",
    "\n",
    "$H_1:$ Оценка(Г) <> Оценка(С)\n",
    "\n",
    "$\\alpha = 0.05$ "
   ]
  },
  {
   "cell_type": "code",
   "execution_count": 21,
   "id": "423762da",
   "metadata": {},
   "outputs": [],
   "source": [
    "import pandas as pd\n",
    "from scipy import stats\n",
    "from IPython.display import display, Markdown\n",
    "\n",
    "# Cчитаем данные и разобъем на две группы\n",
    "vse_gls = [\"а\", \"е\", \"ё\", \"и\", \"о\", \"у\", \"ы\", \"э\", \"ю\", \"я\"]\n",
    "\n",
    "data = pd.read_csv('dz.csv', sep = ';')\n",
    "\n",
    "marks = {'gls': [],\\\n",
    "         'sogls': []}\n",
    "\n",
    "for i in range(len(data)):\n",
    "    last_name = data['Surname'].iloc[i].lower()\n",
    "    if last_name[0] in vse_gls:\n",
    "        marks['gls'].append(data['Mark'].iloc[i])\n",
    "    else:\n",
    "        marks['sogls'].append(data['Mark'].iloc[i])"
   ]
  },
  {
   "cell_type": "markdown",
   "id": "5ca5cb62",
   "metadata": {},
   "source": [
    "**Тест Уэлча**"
   ]
  },
  {
   "cell_type": "code",
   "execution_count": 22,
   "id": "cbe45bdb",
   "metadata": {},
   "outputs": [
    {
     "name": "stdout",
     "output_type": "stream",
     "text": [
      "Ttest_indResult(statistic=0.8519661870595602, pvalue=0.39740271538438376)\n"
     ]
    }
   ],
   "source": [
    "print(stats.ttest_ind(marks['sogls'], marks['gls'], equal_var = False ))"
   ]
  },
  {
   "cell_type": "code",
   "execution_count": 23,
   "id": "87cddd52",
   "metadata": {},
   "outputs": [
    {
     "data": {
      "text/markdown": [
       "\n",
       "$p-value > \\alpha->H_0$ не отврегаем\n"
      ],
      "text/plain": [
       "<IPython.core.display.Markdown object>"
      ]
     },
     "metadata": {},
     "output_type": "display_data"
    }
   ],
   "source": [
    "display(Markdown(\n",
    "   rf\"\"\"\n",
    "$p-value > \\alpha->H_{0}$ не отврегаем\n",
    "\"\"\"))"
   ]
  },
  {
   "cell_type": "markdown",
   "id": "81319cad",
   "metadata": {},
   "source": [
    "**Наивный бустрэп**"
   ]
  },
  {
   "cell_type": "code",
   "execution_count": 24,
   "id": "dc0f8dff",
   "metadata": {},
   "outputs": [
    {
     "name": "stdout",
     "output_type": "stream",
     "text": [
      "Requirement already satisfied: bstrap in c:\\users\\denis\\anaconda3\\lib\\site-packages (0.0.9)Note: you may need to restart the kernel to use updated packages.\n",
      "\n"
     ]
    }
   ],
   "source": [
    "pip install bstrap"
   ]
  },
  {
   "cell_type": "code",
   "execution_count": 25,
   "id": "ce2d9b80",
   "metadata": {},
   "outputs": [
    {
     "name": "stdout",
     "output_type": "stream",
     "text": [
      "{'avg_metric': 16.368081272084805, 'metric_ci_lb': 15.61113074204947, 'metric_ci_ub': 17.102826855123677}\n",
      "{'avg_metric': 15.213775510204082, 'metric_ci_lb': 13.36734693877551, 'metric_ci_ub': 17.1234693877551}\n",
      "0.345\n"
     ]
    }
   ],
   "source": [
    "from bstrap import bootstrap, boostrapping_CI\n",
    "np.random.seed(1)\n",
    "metric = np.mean\n",
    "stats_method1, stats_method2, p_value = bootstrap(metric, pd.Series(marks['sogls']),\\\n",
    "                                                  pd.Series(marks['gls']), nbr_runs=1000)\n",
    "print(stats_method1)\n",
    "print(stats_method2)\n",
    "print(p_value)"
   ]
  },
  {
   "cell_type": "code",
   "execution_count": 26,
   "id": "a1596454",
   "metadata": {},
   "outputs": [
    {
     "data": {
      "text/markdown": [
       "\n",
       "$p-value > \\alpha->H_0$ не отврегаем\n"
      ],
      "text/plain": [
       "<IPython.core.display.Markdown object>"
      ]
     },
     "metadata": {},
     "output_type": "display_data"
    }
   ],
   "source": [
    "display(Markdown(\n",
    "   rf\"\"\"\n",
    "$p-value > \\alpha->H_{0}$ не отврегаем\n",
    "\"\"\"))"
   ]
  },
  {
   "cell_type": "markdown",
   "id": "b908eb3b",
   "metadata": {},
   "source": [
    "**Бустрэп t-статистики**"
   ]
  },
  {
   "cell_type": "code",
   "execution_count": 27,
   "id": "8350ecf2",
   "metadata": {},
   "outputs": [],
   "source": [
    "nn = 1000\n",
    "# Cреднее/СO**2 исходных выборок\n",
    "mean_sogl = np.mean(marks['sogls'])\n",
    "mean_gls = np.mean(marks['gls'])\n",
    "\n",
    "sigma_sogl_2 = np.sum((np.array(marks['sogls']) - mean_sogl)**2)/len(marks['sogls'])\n",
    "sigma_gls_2 = np.sum((np.array(marks['gls']) - mean_gls)**2)/len(marks['gls'])\n",
    "\n",
    "# Генерируем бутстрэп выборки\n",
    "bootstrap_sogl = np.random.choice(marks['sogls'], (nn,len(marks['sogls']) ))\n",
    "bootstrap_gls = np.random.choice(marks['gls'], (nn,len(marks['gls']) ))\n",
    "\n",
    "# Среднее/CO**2 бутстрэп выборок\n",
    "mean_sogl_bs = np.mean(bootstrap_sogl, axis=1)\n",
    "mean_gls_bs = np.mean(bootstrap_gls, axis=1)\n",
    "\n",
    "sigma_sogl_bs_2 = np.sum((bootstrap_sogl - mean_sogl_bs[..., np.newaxis])**2, axis=1)/len(marks['sogls'])\n",
    "sigma_gls_bs_2 = np.sum((bootstrap_gls - mean_gls_bs[..., np.newaxis])**2, axis=1)/len(marks['gls'])\n",
    "\n",
    "# Cчитаем t статистику\n",
    "t_bs =  ( (mean_sogl_bs - mean_gls_bs) - (mean_sogl-mean_gls) )/np.sqrt(sigma_sogl_bs_2/len(marks['sogls']) + sigma_gls_bs_2/len(marks['gls']))"
   ]
  },
  {
   "cell_type": "code",
   "execution_count": 28,
   "id": "a974e62a",
   "metadata": {},
   "outputs": [],
   "source": [
    "t_bs_l, t_bs_r = np.quantile(t_bs,  [0.025, 0.975])\n",
    "ci_bs_l= (mean_sogl-mean_gls)-t_bs_r*np.sqrt(sigma_sogl_2/len(marks['sogls'])+ sigma_gls_2/len(marks['gls']))\n",
    "ci_bs_r = (mean_sogl-mean_gls)-t_bs_l*np.sqrt(sigma_sogl_2/len(marks['sogls'])+ sigma_gls_2/len(marks['gls']))"
   ]
  },
  {
   "cell_type": "code",
   "execution_count": 29,
   "id": "390a63cf",
   "metadata": {},
   "outputs": [
    {
     "name": "stdout",
     "output_type": "stream",
     "text": [
      "H0 гипотеза о равенстве средних не отвергается\n"
     ]
    }
   ],
   "source": [
    "if (0 > ci_bs_l) and (0<ci_bs_r):\n",
    "    print('H0 гипотеза о равенстве средних не отвергается')\n",
    "else:\n",
    "    print('H0 гипотеза о равенстве средних  отвергается')"
   ]
  },
  {
   "cell_type": "markdown",
   "id": "11da397d",
   "metadata": {},
   "source": [
    "**Перестановочный тест**"
   ]
  },
  {
   "cell_type": "code",
   "execution_count": 30,
   "id": "4c4f6efe",
   "metadata": {},
   "outputs": [
    {
     "name": "stdout",
     "output_type": "stream",
     "text": [
      "Requirement already satisfied: scipy in c:\\users\\denis\\anaconda3\\lib\\site-packages (1.10.1)Note: you may need to restart the kernel to use updated packages.\n",
      "Requirement already satisfied: numpy<1.27.0,>=1.19.5 in c:\\users\\denis\\anaconda3\\lib\\site-packages (from scipy) (1.20.3)\n",
      "\n"
     ]
    }
   ],
   "source": [
    "pip install --upgrade scipy"
   ]
  },
  {
   "cell_type": "code",
   "execution_count": 31,
   "id": "460fcb6a",
   "metadata": {},
   "outputs": [],
   "source": [
    "from scipy import stats"
   ]
  },
  {
   "cell_type": "code",
   "execution_count": 32,
   "id": "d7775f83",
   "metadata": {},
   "outputs": [
    {
     "name": "stdout",
     "output_type": "stream",
     "text": [
      "PermutationTestResult(statistic=1.0782433114588574, pvalue=0.3982, null_distribution=array([-0.07095983, -1.84264801,  0.0248071 , ..., -0.50191101,\n",
      "        0.26422442,  2.41898031]))\n"
     ]
    }
   ],
   "source": [
    "def statistic(x, y):\n",
    "    return np.mean(x) - np.mean(y)\n",
    "\n",
    "res = stats.permutation_test((marks['sogls'], marks['gls']), statistic)\n",
    "print(res)"
   ]
  },
  {
   "cell_type": "code",
   "execution_count": 33,
   "id": "a6728dc5",
   "metadata": {},
   "outputs": [
    {
     "data": {
      "text/markdown": [
       "\n",
       "$p-value > \\alpha->H_0$ не отврегаем\n"
      ],
      "text/plain": [
       "<IPython.core.display.Markdown object>"
      ]
     },
     "metadata": {},
     "output_type": "display_data"
    }
   ],
   "source": [
    "display(Markdown(\n",
    "   rf\"\"\"\n",
    "$p-value > \\alpha->H_{0}$ не отврегаем\n",
    "\"\"\"))"
   ]
  },
  {
   "cell_type": "markdown",
   "id": "fc18df3a",
   "metadata": {},
   "source": [
    "# Задача 6"
   ]
  },
  {
   "cell_type": "code",
   "execution_count": 44,
   "id": "00de4df8",
   "metadata": {},
   "outputs": [],
   "source": [
    "df = pd.read_csv('dz.csv', sep = ';')"
   ]
  },
  {
   "cell_type": "code",
   "execution_count": 45,
   "id": "82657ee7",
   "metadata": {},
   "outputs": [],
   "source": [
    "df.Surname = df.Surname.apply(len)"
   ]
  },
  {
   "cell_type": "code",
   "execution_count": 46,
   "id": "696fbfeb",
   "metadata": {},
   "outputs": [
    {
     "name": "stdout",
     "output_type": "stream",
     "text": [
      "2.0613026819923372\n"
     ]
    }
   ],
   "source": [
    "beta = df['Mark'].mean() / df['Surname'].mean()\n",
    "print(beta)"
   ]
  },
  {
   "cell_type": "code",
   "execution_count": 47,
   "id": "8b4a2df8",
   "metadata": {},
   "outputs": [
    {
     "name": "stdout",
     "output_type": "stream",
     "text": [
      "0.025328052669147665\n"
     ]
    }
   ],
   "source": [
    "correlation = df['Mark'].corr(df['Surname'])\n",
    "print(correlation)"
   ]
  },
  {
   "cell_type": "code",
   "execution_count": 49,
   "id": "b4e98fbb",
   "metadata": {},
   "outputs": [
    {
     "name": "stdout",
     "output_type": "stream",
     "text": [
      "0.6503\n"
     ]
    }
   ],
   "source": [
    "permuted_corr_list = []\n",
    "np.random.seed(1)\n",
    "for _ in range(10000):\n",
    "    permuted_df = df.copy()\n",
    "    permuted_df['Surname'] = np.random.permutation(permuted_df['Surname'])\n",
    "    permuted_corr = permuted_df['Mark'].corr(permuted_df['Surname'])\n",
    "    permuted_corr_list.append(permuted_corr)\n",
    "p_value = (np.abs(permuted_corr_list) >= np.abs(correlation)).mean()\n",
    "print(p_value)"
   ]
  },
  {
   "cell_type": "code",
   "execution_count": 50,
   "id": "b659554d",
   "metadata": {},
   "outputs": [
    {
     "name": "stdout",
     "output_type": "stream",
     "text": [
      "H0 не отвергаем\n"
     ]
    }
   ],
   "source": [
    "print('H0 не отвергаем')"
   ]
  },
  {
   "cell_type": "markdown",
   "id": "d725b2bb",
   "metadata": {},
   "source": [
    "# Задача 7"
   ]
  },
  {
   "cell_type": "markdown",
   "id": "6489d96f",
   "metadata": {},
   "source": [
    "Я решил пообщаться с ChatGPT и предложить ему решить задачку №19 из минимума КР-4"
   ]
  },
  {
   "cell_type": "markdown",
   "id": "b8b48532",
   "metadata": {},
   "source": [
    "Самое задание : Вася Сидоров утверждает, что ходит в кино в два раза чаще, чем в спортзал, а в спортзал в два раза чаще,\n",
    "чем в театр. За последние полгода он 10 раз был в театре, 17 раз – в спортзале и 39 раз в кино. На уровне\n",
    "значимости 5% проверьте утверждение Васи. "
   ]
  },
  {
   "cell_type": "markdown",
   "id": "e4c066ac",
   "metadata": {},
   "source": [
    "Ожидаемое решение от ChatGPT : γobs ≈ 0.26, γcrit = 5.99, нет оснований отвергать H0."
   ]
  },
  {
   "cell_type": "markdown",
   "id": "eceee7ca",
   "metadata": {},
   "source": [
    "ссылка на диалог: https://chat.openai.com/share/c2ee584c-f6d0-41c7-b733-31fd39fb7bea"
   ]
  },
  {
   "cell_type": "markdown",
   "id": "28ba7e42",
   "metadata": {},
   "source": [
    "Оказалось, что ChatGPT не очень имеет какие-то проблемы с арифметическими действиями..."
   ]
  },
  {
   "cell_type": "markdown",
   "id": "93ab07e0",
   "metadata": {},
   "source": [
    "# Задача 8"
   ]
  },
  {
   "cell_type": "markdown",
   "id": "92c39b0e",
   "metadata": {},
   "source": [
    "Не знаю, был ли упомянут этот источник на вики курса, но мне очень помог канал на ютубе https://www.youtube.com/@user-bm5zk9mf3o/videos"
   ]
  },
  {
   "cell_type": "markdown",
   "id": "6f259b05",
   "metadata": {},
   "source": [
    "Я по роликам из него помню делал какой-то номер из ДЗ-1, также использовал канал при подготовке к экзамену/кр в первом семестре, ну и периодически смотрел видосы для того, чтобы лучше понять материал по матстату/курсу по анализу данных "
   ]
  },
  {
   "cell_type": "code",
   "execution_count": null,
   "id": "0d78f325",
   "metadata": {},
   "outputs": [],
   "source": []
  }
 ],
 "metadata": {
  "kernelspec": {
   "display_name": "Python 3 (ipykernel)",
   "language": "python",
   "name": "python3"
  },
  "language_info": {
   "codemirror_mode": {
    "name": "ipython",
    "version": 3
   },
   "file_extension": ".py",
   "mimetype": "text/x-python",
   "name": "python",
   "nbconvert_exporter": "python",
   "pygments_lexer": "ipython3",
   "version": "3.9.7"
  }
 },
 "nbformat": 4,
 "nbformat_minor": 5
}
